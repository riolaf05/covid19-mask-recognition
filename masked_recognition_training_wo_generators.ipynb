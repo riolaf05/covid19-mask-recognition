{
  "nbformat": 4,
  "nbformat_minor": 0,
  "metadata": {
    "colab": {
      "name": "masked_recognition_training_wo_generators.ipynb",
      "provenance": [],
      "collapsed_sections": []
    },
    "kernelspec": {
      "name": "python3",
      "display_name": "Python 3"
    },
    "accelerator": "GPU"
  },
  "cells": [
    {
      "cell_type": "code",
      "metadata": {
        "id": "RN6R4xUyWZZZ",
        "colab_type": "code",
        "colab": {}
      },
      "source": [
        "!git clone https://github.com/riolaf05/covid19-mask-recognition"
      ],
      "execution_count": 0,
      "outputs": []
    },
    {
      "cell_type": "code",
      "metadata": {
        "id": "SqQxC4l2WdMi",
        "colab_type": "code",
        "colab": {}
      },
      "source": [
        "import cv2,os\n",
        "\n",
        "data_path='/content/covid19-mask-recognition/dataset'\n",
        "categories=os.listdir(data_path)\n",
        "labels=[i for i in range(len(categories))]\n",
        "\n",
        "label_dict=dict(zip(categories,labels))\n",
        "\n",
        "print(label_dict)\n",
        "print(categories)\n",
        "print(labels)"
      ],
      "execution_count": 0,
      "outputs": []
    },
    {
      "cell_type": "code",
      "metadata": {
        "id": "Mfp47dX5WilF",
        "colab_type": "code",
        "colab": {}
      },
      "source": [
        "#preprocess\n",
        "\n",
        "img_size=100\n",
        "data=[]\n",
        "target=[]\n",
        "\n",
        "\n",
        "for category in categories:\n",
        "    folder_path=os.path.join(data_path,category)\n",
        "    img_names=os.listdir(folder_path)\n",
        "    for img_name in img_names:\n",
        "        img_path=os.path.join(folder_path,img_name)\n",
        "        img=cv2.imread(img_path)\n",
        "\n",
        "        try:\n",
        "            #converto le immagini in b/n\n",
        "            gray=cv2.cvtColor(img,cv2.COLOR_BGR2GRAY)                       \n",
        "            #ridimensiono le immagini in 100x100 per avere una dimensione comune\n",
        "            resized=cv2.resize(gray,(img_size,img_size))\n",
        "\n",
        "            #salvo le immagini modificate in un array\n",
        "            data.append(resized)\n",
        "\n",
        "            #creo la lista delle label per ogni immagine\n",
        "            target.append(label_dict[category])\n",
        "\n",
        "        except Exception as e:\n",
        "            print('Exception:',e)\n",
        "            "
      ],
      "execution_count": 0,
      "outputs": []
    },
    {
      "cell_type": "code",
      "metadata": {
        "id": "1tKKMf9tWoxA",
        "colab_type": "code",
        "colab": {}
      },
      "source": [
        "data[0]"
      ],
      "execution_count": 0,
      "outputs": []
    },
    {
      "cell_type": "code",
      "metadata": {
        "id": "O5QnYayUWpN0",
        "colab_type": "code",
        "colab": {}
      },
      "source": [
        "import numpy as np\n",
        "\n",
        "#normalizzo le immagini\n",
        "data=np.array(data)/255.0\n",
        "\n",
        "#creo l'array numpy\n",
        "data=np.reshape(data,(data.shape[0],img_size,img_size,1))\n",
        "target=np.array(target)\n",
        "\n",
        "from keras.utils import np_utils\n",
        "\n",
        "#creo il one hot encoding per l'output\n",
        "new_target=np_utils.to_categorical(target)"
      ],
      "execution_count": 0,
      "outputs": []
    },
    {
      "cell_type": "code",
      "metadata": {
        "id": "5riVc8cWWsg-",
        "colab_type": "code",
        "colab": {}
      },
      "source": [
        "#esporto gli array numpy\n",
        "np.save('data',data)\n",
        "np.save('target',new_target)"
      ],
      "execution_count": 0,
      "outputs": []
    },
    {
      "cell_type": "code",
      "metadata": {
        "id": "fNikS_JpzlLY",
        "colab_type": "code",
        "colab": {}
      },
      "source": [
        "#import degli array numpy \n",
        "\n",
        "import numpy as np\n",
        "\n",
        "data=np.load('data.npy')\n",
        "target=np.load('target.npy')"
      ],
      "execution_count": 0,
      "outputs": []
    },
    {
      "cell_type": "code",
      "metadata": {
        "id": "IZdIIM9k6zDc",
        "colab_type": "code",
        "colab": {
          "base_uri": "https://localhost:8080/",
          "height": 35
        },
        "outputId": "e0daeda7-1985-4ce0-c143-9d6ebf2d8fce"
      },
      "source": [
        "from keras.models import Sequential\n",
        "from keras.layers import Dense,Activation,Flatten,Dropout\n",
        "from keras.layers import Conv2D,MaxPooling2D\n",
        "from keras.callbacks import ModelCheckpoint\n",
        "\n",
        "model=Sequential()\n",
        "\n",
        "model.add(Conv2D(100,(3,3),input_shape=data.shape[1:]))\n",
        "model.add(Activation('relu'))\n",
        "model.add(MaxPooling2D(pool_size=(2,2)))\n",
        "#The first CNN layer followed by Relu and MaxPooling layers\n",
        "\n",
        "model.add(Conv2D(100,(3,3)))\n",
        "model.add(Activation('relu'))\n",
        "model.add(MaxPooling2D(pool_size=(2,2)))\n",
        "#The second convolution layer followed by Relu and MaxPooling layers\n",
        "\n",
        "model.add(Flatten())\n",
        "model.add(Dropout(0.5))\n",
        "#Flatten layer to stack the output convolutions from second convolution layer\n",
        "model.add(Dense(50,activation='relu'))\n",
        "#Dense layer of 64 neurons\n",
        "model.add(Dense(2,activation='softmax'))\n",
        "#The Final layer with two outputs for two categories\n",
        "\n",
        "model.compile(loss='binary_crossentropy',optimizer='adam',metrics=['accuracy'])"
      ],
      "execution_count": 4,
      "outputs": [
        {
          "output_type": "stream",
          "text": [
            "Using TensorFlow backend.\n"
          ],
          "name": "stderr"
        }
      ]
    },
    {
      "cell_type": "code",
      "metadata": {
        "id": "zNg34vRP7MiY",
        "colab_type": "code",
        "colab": {}
      },
      "source": [
        "from sklearn.model_selection import train_test_split\n",
        "\n",
        "train_data,test_data,train_target,test_target=train_test_split(data,target,test_size=0.1)"
      ],
      "execution_count": 0,
      "outputs": []
    },
    {
      "cell_type": "code",
      "metadata": {
        "id": "O8UBpKVl7WFJ",
        "colab_type": "code",
        "colab": {
          "base_uri": "https://localhost:8080/",
          "height": 748
        },
        "outputId": "8d0f5c36-d426-45f4-92f8-391778eb414e"
      },
      "source": [
        "checkpoint = ModelCheckpoint('model-{epoch:03d}.model',monitor='val_loss',verbose=0,save_best_only=True,mode='auto')\n",
        "history=model.fit(train_data,train_target,epochs=20,callbacks=[checkpoint],validation_split=0.2)"
      ],
      "execution_count": 6,
      "outputs": [
        {
          "output_type": "stream",
          "text": [
            "Train on 990 samples, validate on 248 samples\n",
            "Epoch 1/20\n",
            "990/990 [==============================] - 9s 9ms/step - loss: 0.8227 - accuracy: 0.4970 - val_loss: 0.6930 - val_accuracy: 0.5081\n",
            "Epoch 2/20\n",
            "990/990 [==============================] - 1s 838us/step - loss: 0.6938 - accuracy: 0.4970 - val_loss: 0.6925 - val_accuracy: 0.5081\n",
            "Epoch 3/20\n",
            "990/990 [==============================] - 1s 856us/step - loss: 0.6935 - accuracy: 0.4662 - val_loss: 0.6930 - val_accuracy: 0.5081\n",
            "Epoch 4/20\n",
            "990/990 [==============================] - 1s 835us/step - loss: 0.6924 - accuracy: 0.5707 - val_loss: 0.6915 - val_accuracy: 0.5081\n",
            "Epoch 5/20\n",
            "990/990 [==============================] - 1s 851us/step - loss: 0.6944 - accuracy: 0.5030 - val_loss: 0.6941 - val_accuracy: 0.5040\n",
            "Epoch 6/20\n",
            "990/990 [==============================] - 1s 848us/step - loss: 0.6919 - accuracy: 0.5313 - val_loss: 0.6918 - val_accuracy: 0.5403\n",
            "Epoch 7/20\n",
            "990/990 [==============================] - 1s 841us/step - loss: 0.6766 - accuracy: 0.5747 - val_loss: 0.7020 - val_accuracy: 0.5161\n",
            "Epoch 8/20\n",
            "990/990 [==============================] - 1s 846us/step - loss: 0.6279 - accuracy: 0.6465 - val_loss: 0.6993 - val_accuracy: 0.5645\n",
            "Epoch 9/20\n",
            "990/990 [==============================] - 1s 840us/step - loss: 0.5915 - accuracy: 0.6929 - val_loss: 0.7064 - val_accuracy: 0.6129\n",
            "Epoch 10/20\n",
            "990/990 [==============================] - 1s 842us/step - loss: 0.4752 - accuracy: 0.7778 - val_loss: 0.7834 - val_accuracy: 0.6129\n",
            "Epoch 11/20\n",
            "990/990 [==============================] - 1s 833us/step - loss: 0.3686 - accuracy: 0.8485 - val_loss: 0.7492 - val_accuracy: 0.6331\n",
            "Epoch 12/20\n",
            "990/990 [==============================] - 1s 846us/step - loss: 0.2685 - accuracy: 0.8899 - val_loss: 0.7372 - val_accuracy: 0.6573\n",
            "Epoch 13/20\n",
            "990/990 [==============================] - 1s 847us/step - loss: 0.1997 - accuracy: 0.9354 - val_loss: 0.8773 - val_accuracy: 0.6573\n",
            "Epoch 14/20\n",
            "990/990 [==============================] - 1s 838us/step - loss: 0.1212 - accuracy: 0.9626 - val_loss: 1.0432 - val_accuracy: 0.6492\n",
            "Epoch 15/20\n",
            "990/990 [==============================] - 1s 842us/step - loss: 0.0836 - accuracy: 0.9737 - val_loss: 1.1655 - val_accuracy: 0.6653\n",
            "Epoch 16/20\n",
            "990/990 [==============================] - 1s 850us/step - loss: 0.0478 - accuracy: 0.9879 - val_loss: 1.1776 - val_accuracy: 0.6734\n",
            "Epoch 17/20\n",
            "990/990 [==============================] - 1s 841us/step - loss: 0.0453 - accuracy: 0.9889 - val_loss: 1.2697 - val_accuracy: 0.6492\n",
            "Epoch 18/20\n",
            "990/990 [==============================] - 1s 849us/step - loss: 0.0280 - accuracy: 0.9919 - val_loss: 1.3400 - val_accuracy: 0.6653\n",
            "Epoch 19/20\n",
            "990/990 [==============================] - 1s 842us/step - loss: 0.0283 - accuracy: 0.9919 - val_loss: 1.6408 - val_accuracy: 0.6331\n",
            "Epoch 20/20\n",
            "990/990 [==============================] - 1s 848us/step - loss: 0.0147 - accuracy: 0.9970 - val_loss: 1.5931 - val_accuracy: 0.6411\n"
          ],
          "name": "stdout"
        }
      ]
    },
    {
      "cell_type": "code",
      "metadata": {
        "id": "qNCkww8_7OZm",
        "colab_type": "code",
        "colab": {
          "base_uri": "https://localhost:8080/",
          "height": 279
        },
        "outputId": "ee24bcb2-34d5-47ef-af3e-aec83f840770"
      },
      "source": [
        "from matplotlib import pyplot as plt\n",
        "\n",
        "plt.plot(history.history['loss'],'r',label='training loss')\n",
        "plt.plot(history.history['val_loss'],label='validation loss')\n",
        "plt.xlabel('# epochs')\n",
        "plt.ylabel('loss')\n",
        "plt.legend()\n",
        "plt.show()"
      ],
      "execution_count": 7,
      "outputs": [
        {
          "output_type": "display_data",
          "data": {
            "image/png": "[encoded data removed]",
            "text/plain": [
              "<Figure size 432x288 with 1 Axes>"
            ]
          },
          "metadata": {
            "tags": [],
            "needs_background": "light"
          }
        }
      ]
    },
    {
      "cell_type": "code",
      "metadata": {
        "id": "oLFr-2jn7Rg4",
        "colab_type": "code",
        "colab": {
          "base_uri": "https://localhost:8080/",
          "height": 279
        },
        "outputId": "12e8a479-7a3d-4d09-bf93-e36e1f8d2bb5"
      },
      "source": [
        "plt.plot(history.history['accuracy'],'r',label='training accuracy')\n",
        "plt.plot(history.history['val_accuracy'],label='validation accuracy')\n",
        "plt.xlabel('# epochs')\n",
        "plt.ylabel('loss')\n",
        "plt.legend()\n",
        "plt.show()"
      ],
      "execution_count": 8,
      "outputs": [
        {
          "output_type": "display_data",
          "data": {
            "image/png": "[encoded data removed]",
            "text/plain": [
              "<Figure size 432x288 with 1 Axes>"
            ]
          },
          "metadata": {
            "tags": [],
            "needs_background": "light"
          }
        }
      ]
    },
    {
      "cell_type": "code",
      "metadata": {
        "id": "FFt15D6r7kbX",
        "colab_type": "code",
        "colab": {
          "base_uri": "https://localhost:8080/",
          "height": 52
        },
        "outputId": "7c3078b3-117e-4c69-e1e1-e4538be3d329"
      },
      "source": [
        "print(model.evaluate(test_data,test_target))"
      ],
      "execution_count": 9,
      "outputs": [
        {
          "output_type": "stream",
          "text": [
            "138/138 [==============================] - 0s 785us/step\n",
            "[1.273290349089581, 0.717391312122345]\n"
          ],
          "name": "stdout"
        }
      ]
    },
    {
      "cell_type": "code",
      "metadata": {
        "id": "_gIX0Tb89irV",
        "colab_type": "code",
        "colab": {}
      },
      "source": [
        "model.save('masked_recognition.h5')"
      ],
      "execution_count": 0,
      "outputs": []
    },
    {
      "cell_type": "code",
      "metadata": {
        "id": "dzrp4_Mf9naH",
        "colab_type": "code",
        "colab": {}
      },
      "source": [
        ""
      ],
      "execution_count": 0,
      "outputs": []
    }
  ]
}